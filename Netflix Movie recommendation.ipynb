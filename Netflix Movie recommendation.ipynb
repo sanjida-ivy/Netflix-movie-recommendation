{
 "cells": [
  {
   "cell_type": "markdown",
   "metadata": {
    "slideshow": {
     "slide_type": "slide"
    }
   },
   "source": [
    "# ****Netflix Movie Data EDA and Recommendation****"
   ]
  },
  {
   "cell_type": "markdown",
   "metadata": {
    "slideshow": {
     "slide_type": "subslide"
    }
   },
   "source": [
    "**Libraries**"
   ]
  },
  {
   "cell_type": "code",
   "execution_count": 1,
   "metadata": {
    "slideshow": {
     "slide_type": "fragment"
    }
   },
   "outputs": [],
   "source": [
    "#Importing all the necessary libraries\n",
    "import pandas as pd\n",
    "import numpy as np\n",
    "import matplotlib.pyplot as plt\n",
    "%matplotlib inline\n",
    "import seaborn as sns"
   ]
  },
  {
   "cell_type": "markdown",
   "metadata": {
    "slideshow": {
     "slide_type": "slide"
    }
   },
   "source": [
    "**About Netflix**"
   ]
  },
  {
   "cell_type": "markdown",
   "metadata": {
    "slideshow": {
     "slide_type": "subslide"
    }
   },
   "source": [
    "Netflix, Inc. is an American subscription streaming service and production company. Launched on August 29, 1997, it offers a film and television series library through distribution deals as well as its own productions, known as Netflix Original"
   ]
  },
  {
   "cell_type": "code",
   "execution_count": 2,
   "metadata": {},
   "outputs": [
    {
     "data": {
      "image/png": "[encoded data removed]",
      "text/plain": [
       "<Figure size 1080x288 with 1 Axes>"
      ]
     },
     "metadata": {},
     "output_type": "display_data"
    }
   ],
   "source": [
    "from datetime import datetime\n",
    "tl_dates = [\n",
    "    \"1997\\nFounded\",\n",
    "    \"1998\\nMail Services\",\n",
    "    \"2003\\nGoes Public\",\n",
    "    \"2007\\nStreming service\",\n",
    "    \"2016\\nGoes Global\",\n",
    "    \"2021\\nNetflix & Chill\"\n",
    "]\n",
    "tl_x = [1,2,4,5.3,8,9]\n",
    "\n",
    "\n",
    "fig,ax = plt.subplots(figsize=(15,4),constrained_layout=True)\n",
    "ax.set_ylim(-2,1.5)\n",
    "ax.set_xlim(0,10)\n",
    "ax.axhline(0, xmin=0.1, xmax=0.9,c=\"#000000\",zorder=1)\n",
    "ax.scatter(tl_x,np.zeros(len(tl_x)),s=120,c=\"#4a4a4a\",zorder=2)\n",
    "ax.scatter(tl_x, np.zeros(len(tl_x)), s=30, c='#fafafa', zorder=3)\n",
    "for x, date in zip(tl_x, tl_dates):\n",
    "    ax.text(x, -0.55, date, ha='center', \n",
    "            fontfamily='serif', fontweight='bold',\n",
    "            color='#4a4a4a',fontsize=12)\n",
    "for spine in [\"left\", \"top\", \"right\", \"bottom\"]:\n",
    "    ax.spines[spine].set_visible(False)\n",
    "ax.set_xticks([]) \n",
    "ax.set_yticks([]) \n",
    "ax.set_title(\"Netflix through the years\", fontweight=\"bold\", fontfamily='serif', fontsize=16, color='#4a4a4a')\n",
    "plt.show()"
   ]
  },
  {
   "cell_type": "markdown",
   "metadata": {},
   "source": [
    "**About Netflix Dataset**"
   ]
  },
  {
   "cell_type": "markdown",
   "metadata": {},
   "source": [
    "*Netflix Movies and TV Shows 2021*\n",
    "\n",
    "This dataset is taken from Kaggle. It has 4284 entries entries and 17 columns.\n",
    "\n"
   ]
  },
  {
   "cell_type": "code",
   "execution_count": 3,
   "metadata": {
    "slideshow": {
     "slide_type": "fragment"
    }
   },
   "outputs": [
    {
     "data": {
      "text/html": [
       "<div>\n",
       "<style scoped>\n",
       "    .dataframe tbody tr th:only-of-type {\n",
       "        vertical-align: middle;\n",
       "    }\n",
       "\n",
       "    .dataframe tbody tr th {\n",
       "        vertical-align: top;\n",
       "    }\n",
       "\n",
       "    .dataframe thead th {\n",
       "        text-align: right;\n",
       "    }\n",
       "</style>\n",
       "<table border=\"1\" class=\"dataframe\">\n",
       "  <thead>\n",
       "    <tr style=\"text-align: right;\">\n",
       "      <th></th>\n",
       "      <th>Show Id</th>\n",
       "      <th>Title</th>\n",
       "      <th>Description</th>\n",
       "      <th>Director</th>\n",
       "      <th>Genres</th>\n",
       "      <th>Cast</th>\n",
       "      <th>Production Country</th>\n",
       "      <th>Release Date</th>\n",
       "      <th>Rating</th>\n",
       "      <th>Duration</th>\n",
       "      <th>Imdb Score</th>\n",
       "      <th>Content Type</th>\n",
       "      <th>Date Added</th>\n",
       "    </tr>\n",
       "  </thead>\n",
       "  <tbody>\n",
       "    <tr>\n",
       "      <th>0</th>\n",
       "      <td>cc1b6ed9-cf9e-4057-8303-34577fb54477</td>\n",
       "      <td>(Un)Well</td>\n",
       "      <td>This docuseries takes a deep dive into the luc...</td>\n",
       "      <td>NaN</td>\n",
       "      <td>Reality TV</td>\n",
       "      <td>NaN</td>\n",
       "      <td>United States</td>\n",
       "      <td>2020.0</td>\n",
       "      <td>TV-MA</td>\n",
       "      <td>1 Season</td>\n",
       "      <td>6.6/10</td>\n",
       "      <td>TV Show</td>\n",
       "      <td>NaN</td>\n",
       "    </tr>\n",
       "    <tr>\n",
       "      <th>1</th>\n",
       "      <td>e2ef4e91-fb25-42ab-b485-be8e3b23dedb</td>\n",
       "      <td>#Alive</td>\n",
       "      <td>As a grisly virus rampages a city, a lone man ...</td>\n",
       "      <td>Cho Il</td>\n",
       "      <td>Horror Movies, International Movies, Thrillers</td>\n",
       "      <td>Yoo Ah-in, Park Shin-hye</td>\n",
       "      <td>South Korea</td>\n",
       "      <td>2020.0</td>\n",
       "      <td>TV-MA</td>\n",
       "      <td>99 min</td>\n",
       "      <td>6.2/10</td>\n",
       "      <td>Movie</td>\n",
       "      <td>September 8, 2020</td>\n",
       "    </tr>\n",
       "    <tr>\n",
       "      <th>2</th>\n",
       "      <td>b01b73b7-81f6-47a7-86d8-acb63080d525</td>\n",
       "      <td>#AnneFrank - Parallel Stories</td>\n",
       "      <td>Through her diary, Anne Frank's story is retol...</td>\n",
       "      <td>Sabina Fedeli, Anna Migotto</td>\n",
       "      <td>Documentaries, International Movies</td>\n",
       "      <td>Helen Mirren, Gengher Gatti</td>\n",
       "      <td>Italy</td>\n",
       "      <td>2019.0</td>\n",
       "      <td>TV-14</td>\n",
       "      <td>95 min</td>\n",
       "      <td>6.4/10</td>\n",
       "      <td>Movie</td>\n",
       "      <td>July 1, 2020</td>\n",
       "    </tr>\n",
       "    <tr>\n",
       "      <th>3</th>\n",
       "      <td>b6611af0-f53c-4a08-9ffa-9716dc57eb9c</td>\n",
       "      <td>#blackAF</td>\n",
       "      <td>Kenya Barris and his family navigate relations...</td>\n",
       "      <td>NaN</td>\n",
       "      <td>TV Comedies</td>\n",
       "      <td>Kenya Barris, Rashida Jones, Iman Benson, Genn...</td>\n",
       "      <td>United States</td>\n",
       "      <td>2020.0</td>\n",
       "      <td>TV-MA</td>\n",
       "      <td>1 Season</td>\n",
       "      <td>6.6/10</td>\n",
       "      <td>TV Show</td>\n",
       "      <td>NaN</td>\n",
       "    </tr>\n",
       "    <tr>\n",
       "      <th>4</th>\n",
       "      <td>7f2d4170-bab8-4d75-adc2-197f7124c070</td>\n",
       "      <td>#cats_the_mewvie</td>\n",
       "      <td>This pawesome documentary explores how our fel...</td>\n",
       "      <td>Michael Margolis</td>\n",
       "      <td>Documentaries, International Movies</td>\n",
       "      <td>NaN</td>\n",
       "      <td>Canada</td>\n",
       "      <td>2020.0</td>\n",
       "      <td>TV-14</td>\n",
       "      <td>90 min</td>\n",
       "      <td>5.1/10</td>\n",
       "      <td>Movie</td>\n",
       "      <td>February 5, 2020</td>\n",
       "    </tr>\n",
       "  </tbody>\n",
       "</table>\n",
       "</div>"
      ],
      "text/plain": [
       "                                Show Id                          Title  \\\n",
       "0  cc1b6ed9-cf9e-4057-8303-34577fb54477                       (Un)Well   \n",
       "1  e2ef4e91-fb25-42ab-b485-be8e3b23dedb                         #Alive   \n",
       "2  b01b73b7-81f6-47a7-86d8-acb63080d525  #AnneFrank - Parallel Stories   \n",
       "3  b6611af0-f53c-4a08-9ffa-9716dc57eb9c                       #blackAF   \n",
       "4  7f2d4170-bab8-4d75-adc2-197f7124c070               #cats_the_mewvie   \n",
       "\n",
       "                                         Description  \\\n",
       "0  This docuseries takes a deep dive into the luc...   \n",
       "1  As a grisly virus rampages a city, a lone man ...   \n",
       "2  Through her diary, Anne Frank's story is retol...   \n",
       "3  Kenya Barris and his family navigate relations...   \n",
       "4  This pawesome documentary explores how our fel...   \n",
       "\n",
       "                      Director  \\\n",
       "0                          NaN   \n",
       "1                       Cho Il   \n",
       "2  Sabina Fedeli, Anna Migotto   \n",
       "3                          NaN   \n",
       "4             Michael Margolis   \n",
       "\n",
       "                                           Genres  \\\n",
       "0                                      Reality TV   \n",
       "1  Horror Movies, International Movies, Thrillers   \n",
       "2             Documentaries, International Movies   \n",
       "3                                     TV Comedies   \n",
       "4             Documentaries, International Movies   \n",
       "\n",
       "                                                Cast Production Country  \\\n",
       "0                                                NaN      United States   \n",
       "1                           Yoo Ah-in, Park Shin-hye        South Korea   \n",
       "2                        Helen Mirren, Gengher Gatti              Italy   \n",
       "3  Kenya Barris, Rashida Jones, Iman Benson, Genn...      United States   \n",
       "4                                                NaN             Canada   \n",
       "\n",
       "   Release Date Rating  Duration Imdb Score Content Type         Date Added  \n",
       "0        2020.0  TV-MA  1 Season     6.6/10      TV Show                NaN  \n",
       "1        2020.0  TV-MA    99 min     6.2/10        Movie  September 8, 2020  \n",
       "2        2019.0  TV-14    95 min     6.4/10        Movie       July 1, 2020  \n",
       "3        2020.0  TV-MA  1 Season     6.6/10      TV Show                NaN  \n",
       "4        2020.0  TV-14    90 min     5.1/10        Movie   February 5, 2020  "
      ]
     },
     "execution_count": 3,
     "metadata": {},
     "output_type": "execute_result"
    }
   ],
   "source": [
    "#Load the dataset\n",
    "df = pd.read_csv('netflixData.csv', encoding='ISO-8859-1')\n",
    "df.head()"
   ]
  },
  {
   "cell_type": "code",
   "execution_count": 4,
   "metadata": {
    "slideshow": {
     "slide_type": "skip"
    }
   },
   "outputs": [
    {
     "name": "stdout",
     "output_type": "stream",
     "text": [
      "Summary of the basic information about this DataFrame and its data:\n",
      "<class 'pandas.core.frame.DataFrame'>\n",
      "RangeIndex: 5967 entries, 0 to 5966\n",
      "Data columns (total 13 columns):\n",
      " #   Column              Non-Null Count  Dtype  \n",
      "---  ------              --------------  -----  \n",
      " 0   Show Id             5967 non-null   object \n",
      " 1   Title               5967 non-null   object \n",
      " 2   Description         5967 non-null   object \n",
      " 3   Director            3903 non-null   object \n",
      " 4   Genres              5967 non-null   object \n",
      " 5   Cast                5437 non-null   object \n",
      " 6   Production Country  5408 non-null   object \n",
      " 7   Release Date        5964 non-null   float64\n",
      " 8   Rating              5963 non-null   object \n",
      " 9   Duration            5964 non-null   object \n",
      " 10  Imdb Score          5359 non-null   object \n",
      " 11  Content Type        5967 non-null   object \n",
      " 12  Date Added          4632 non-null   object \n",
      "dtypes: float64(1), object(12)\n",
      "memory usage: 606.1+ KB\n",
      "None\n"
     ]
    }
   ],
   "source": [
    "#print(df.describe())\n",
    "print(\"Summary of the basic information about this DataFrame and its data:\")\n",
    "print(df.info())"
   ]
  },
  {
   "cell_type": "markdown",
   "metadata": {
    "slideshow": {
     "slide_type": "slide"
    }
   },
   "source": [
    "**Data pre-processing**"
   ]
  },
  {
   "cell_type": "markdown",
   "metadata": {
    "slideshow": {
     "slide_type": "subslide"
    }
   },
   "source": [
    "*Investigating the missing data* "
   ]
  },
  {
   "cell_type": "code",
   "execution_count": 5,
   "metadata": {
    "slideshow": {
     "slide_type": "subslide"
    }
   },
   "outputs": [
    {
     "name": "stdout",
     "output_type": "stream",
     "text": [
      "Director null rate: 34.59%\n",
      "Cast null rate: 8.88%\n",
      "Production Country null rate: 9.37%\n",
      "Release Date null rate: 0.05%\n",
      "Rating null rate: 0.07%\n",
      "Duration null rate: 0.05%\n",
      "Imdb Score null rate: 10.19%\n",
      "Date Added null rate: 22.37%\n"
     ]
    }
   ],
   "source": [
    "for i in df.columns:\n",
    "    null_rate = df[i].isna().sum()/len(df) * 100\n",
    "    if null_rate > 0 :\n",
    "        print(\"{} null rate: {}%\".format(i,round(null_rate,2)))\n",
    "        "
   ]
  },
  {
   "cell_type": "code",
   "execution_count": 6,
   "metadata": {
    "slideshow": {
     "slide_type": "subslide"
    }
   },
   "outputs": [],
   "source": [
    "df['Director'] = df['Director'].fillna(df['Director'].mode()[0])\n",
    "df['Cast'].replace(np.nan,'No data',inplace=True)\n",
    "df['Production Country'].replace(np.nan,'No data',inplace=True)\n",
    "df.dropna(inplace=True)\n",
    "df.drop_duplicates(inplace=True)"
   ]
  },
  {
   "cell_type": "code",
   "execution_count": 7,
   "metadata": {
    "slideshow": {
     "slide_type": "subslide"
    }
   },
   "outputs": [
    {
     "data": {
      "text/html": [
       "<div>\n",
       "<style scoped>\n",
       "    .dataframe tbody tr th:only-of-type {\n",
       "        vertical-align: middle;\n",
       "    }\n",
       "\n",
       "    .dataframe tbody tr th {\n",
       "        vertical-align: top;\n",
       "    }\n",
       "\n",
       "    .dataframe thead th {\n",
       "        text-align: right;\n",
       "    }\n",
       "</style>\n",
       "<table border=\"1\" class=\"dataframe\">\n",
       "  <thead>\n",
       "    <tr style=\"text-align: right;\">\n",
       "      <th></th>\n",
       "      <th>Show Id</th>\n",
       "      <th>Title</th>\n",
       "      <th>Description</th>\n",
       "      <th>Director</th>\n",
       "      <th>Genres</th>\n",
       "      <th>Cast</th>\n",
       "      <th>Production Country</th>\n",
       "      <th>Release Date</th>\n",
       "      <th>Rating</th>\n",
       "      <th>Duration</th>\n",
       "      <th>Imdb Score</th>\n",
       "      <th>Content Type</th>\n",
       "      <th>Date Added</th>\n",
       "      <th>month_added</th>\n",
       "      <th>month_name_added</th>\n",
       "      <th>year_added</th>\n",
       "    </tr>\n",
       "  </thead>\n",
       "  <tbody>\n",
       "    <tr>\n",
       "      <th>1</th>\n",
       "      <td>e2ef4e91-fb25-42ab-b485-be8e3b23dedb</td>\n",
       "      <td>#Alive</td>\n",
       "      <td>As a grisly virus rampages a city, a lone man ...</td>\n",
       "      <td>Cho Il</td>\n",
       "      <td>Horror Movies, International Movies, Thrillers</td>\n",
       "      <td>Yoo Ah-in, Park Shin-hye</td>\n",
       "      <td>South Korea</td>\n",
       "      <td>2020.0</td>\n",
       "      <td>TV-MA</td>\n",
       "      <td>99 min</td>\n",
       "      <td>6.2/10</td>\n",
       "      <td>Movie</td>\n",
       "      <td>2020-09-08</td>\n",
       "      <td>9</td>\n",
       "      <td>September</td>\n",
       "      <td>2020</td>\n",
       "    </tr>\n",
       "    <tr>\n",
       "      <th>2</th>\n",
       "      <td>b01b73b7-81f6-47a7-86d8-acb63080d525</td>\n",
       "      <td>#AnneFrank - Parallel Stories</td>\n",
       "      <td>Through her diary, Anne Frank's story is retol...</td>\n",
       "      <td>Sabina Fedeli, Anna Migotto</td>\n",
       "      <td>Documentaries, International Movies</td>\n",
       "      <td>Helen Mirren, Gengher Gatti</td>\n",
       "      <td>Italy</td>\n",
       "      <td>2019.0</td>\n",
       "      <td>TV-14</td>\n",
       "      <td>95 min</td>\n",
       "      <td>6.4/10</td>\n",
       "      <td>Movie</td>\n",
       "      <td>2020-07-01</td>\n",
       "      <td>7</td>\n",
       "      <td>July</td>\n",
       "      <td>2020</td>\n",
       "    </tr>\n",
       "    <tr>\n",
       "      <th>4</th>\n",
       "      <td>7f2d4170-bab8-4d75-adc2-197f7124c070</td>\n",
       "      <td>#cats_the_mewvie</td>\n",
       "      <td>This pawesome documentary explores how our fel...</td>\n",
       "      <td>Michael Margolis</td>\n",
       "      <td>Documentaries, International Movies</td>\n",
       "      <td>No data</td>\n",
       "      <td>Canada</td>\n",
       "      <td>2020.0</td>\n",
       "      <td>TV-14</td>\n",
       "      <td>90 min</td>\n",
       "      <td>5.1/10</td>\n",
       "      <td>Movie</td>\n",
       "      <td>2020-02-05</td>\n",
       "      <td>2</td>\n",
       "      <td>February</td>\n",
       "      <td>2020</td>\n",
       "    </tr>\n",
       "    <tr>\n",
       "      <th>5</th>\n",
       "      <td>c293788a-41f7-49a3-a7fc-005ea33bce2b</td>\n",
       "      <td>#FriendButMarried</td>\n",
       "      <td>Pining for his high school crush for years, a ...</td>\n",
       "      <td>Rako Prijanto</td>\n",
       "      <td>Dramas, International Movies, Romantic Movies</td>\n",
       "      <td>Adipati Dolken, Vanesha Prescilla, Rendi Jhon,...</td>\n",
       "      <td>Indonesia</td>\n",
       "      <td>2018.0</td>\n",
       "      <td>TV-G</td>\n",
       "      <td>102 min</td>\n",
       "      <td>7.0/10</td>\n",
       "      <td>Movie</td>\n",
       "      <td>2020-05-21</td>\n",
       "      <td>5</td>\n",
       "      <td>May</td>\n",
       "      <td>2020</td>\n",
       "    </tr>\n",
       "    <tr>\n",
       "      <th>6</th>\n",
       "      <td>0555e67e-f624-4a05-93e4-55c117d0056d</td>\n",
       "      <td>#FriendButMarried 2</td>\n",
       "      <td>As Ayu and Ditto finally transition from best ...</td>\n",
       "      <td>Rako Prijanto</td>\n",
       "      <td>Dramas, International Movies, Romantic Movies</td>\n",
       "      <td>Adipati Dolken, Mawar de Jongh, Sari Nila, Von...</td>\n",
       "      <td>Indonesia</td>\n",
       "      <td>2020.0</td>\n",
       "      <td>TV-G</td>\n",
       "      <td>104 min</td>\n",
       "      <td>7.0/10</td>\n",
       "      <td>Movie</td>\n",
       "      <td>2020-06-28</td>\n",
       "      <td>6</td>\n",
       "      <td>June</td>\n",
       "      <td>2020</td>\n",
       "    </tr>\n",
       "  </tbody>\n",
       "</table>\n",
       "</div>"
      ],
      "text/plain": [
       "                                Show Id                          Title  \\\n",
       "1  e2ef4e91-fb25-42ab-b485-be8e3b23dedb                         #Alive   \n",
       "2  b01b73b7-81f6-47a7-86d8-acb63080d525  #AnneFrank - Parallel Stories   \n",
       "4  7f2d4170-bab8-4d75-adc2-197f7124c070               #cats_the_mewvie   \n",
       "5  c293788a-41f7-49a3-a7fc-005ea33bce2b              #FriendButMarried   \n",
       "6  0555e67e-f624-4a05-93e4-55c117d0056d            #FriendButMarried 2   \n",
       "\n",
       "                                         Description  \\\n",
       "1  As a grisly virus rampages a city, a lone man ...   \n",
       "2  Through her diary, Anne Frank's story is retol...   \n",
       "4  This pawesome documentary explores how our fel...   \n",
       "5  Pining for his high school crush for years, a ...   \n",
       "6  As Ayu and Ditto finally transition from best ...   \n",
       "\n",
       "                      Director  \\\n",
       "1                       Cho Il   \n",
       "2  Sabina Fedeli, Anna Migotto   \n",
       "4             Michael Margolis   \n",
       "5                Rako Prijanto   \n",
       "6                Rako Prijanto   \n",
       "\n",
       "                                           Genres  \\\n",
       "1  Horror Movies, International Movies, Thrillers   \n",
       "2             Documentaries, International Movies   \n",
       "4             Documentaries, International Movies   \n",
       "5   Dramas, International Movies, Romantic Movies   \n",
       "6   Dramas, International Movies, Romantic Movies   \n",
       "\n",
       "                                                Cast Production Country  \\\n",
       "1                           Yoo Ah-in, Park Shin-hye        South Korea   \n",
       "2                        Helen Mirren, Gengher Gatti              Italy   \n",
       "4                                            No data             Canada   \n",
       "5  Adipati Dolken, Vanesha Prescilla, Rendi Jhon,...          Indonesia   \n",
       "6  Adipati Dolken, Mawar de Jongh, Sari Nila, Von...          Indonesia   \n",
       "\n",
       "   Release Date Rating Duration Imdb Score Content Type Date Added  \\\n",
       "1        2020.0  TV-MA   99 min     6.2/10        Movie 2020-09-08   \n",
       "2        2019.0  TV-14   95 min     6.4/10        Movie 2020-07-01   \n",
       "4        2020.0  TV-14   90 min     5.1/10        Movie 2020-02-05   \n",
       "5        2018.0   TV-G  102 min     7.0/10        Movie 2020-05-21   \n",
       "6        2020.0   TV-G  104 min     7.0/10        Movie 2020-06-28   \n",
       "\n",
       "   month_added month_name_added  year_added  \n",
       "1            9        September        2020  \n",
       "2            7             July        2020  \n",
       "4            2         February        2020  \n",
       "5            5              May        2020  \n",
       "6            6             June        2020  "
      ]
     },
     "execution_count": 7,
     "metadata": {},
     "output_type": "execute_result"
    }
   ],
   "source": [
    "df['Date Added'] = pd.to_datetime(df['Date Added'])\n",
    "df['month_added'] = df['Date Added'].dt.month\n",
    "df['month_name_added'] = df['Date Added'].dt.month_name()\n",
    "df['year_added'] = df['Date Added'].dt.year\n",
    "df.head()"
   ]
  },
  {
   "cell_type": "markdown",
   "metadata": {},
   "source": [
    "**Netflix Content Type**"
   ]
  },
  {
   "cell_type": "code",
   "execution_count": 8,
   "metadata": {
    "slideshow": {
     "slide_type": "slide"
    }
   },
   "outputs": [
    {
     "data": {
      "image/png": "[encoded data removed]",
      "text/plain": [
       "<Figure size 360x360 with 1 Axes>"
      ]
     },
     "metadata": {},
     "output_type": "display_data"
    }
   ],
   "source": [
    "import warnings\n",
    "warnings.simplefilter('ignore')\n",
    "sns.set_theme(style=\"darkgrid\")\n",
    "fig = plt.figure(figsize=(5, 5))\n",
    "#Adding text\n",
    "fig.text(0.125,1,'Netflix Content Type',fontsize=15,fontweight='bold',fontfamily='serif')\n",
    "fig.text(0.125,0.95,'Two types of content are found',fontsize=10,fontweight='light',fontfamily='serif')\n",
    "fig.text(1.1, 1.01, 'Insight', fontsize=15, fontweight='bold', fontfamily='serif')\n",
    "fig.text(1.1, 0.67, '''\n",
    "Here we can see that We have more movie content\n",
    "than Tv Shows. 3551 Movies on the onther\n",
    "hand 733 TV shows available.\n",
    "'''\n",
    "         , fontsize=12, fontweight='light', fontfamily='serif')\n",
    "ax.grid(axis='y', linestyle='-', alpha=0.5)\n",
    "ax=plt.axes()\n",
    "\n",
    "ax = sns.countplot(df[\"Content Type\"], \n",
    "                   order = df[\"Content Type\"].value_counts().index, palette=['#b20710',\"#221f1f\"])\n",
    "\n",
    "for p, label in zip(ax.patches, df[\"Content Type\"].value_counts()):\n",
    "    ax.annotate(label, (p.get_x()+0.375, p.get_height()+0.35))"
   ]
  },
  {
   "cell_type": "code",
   "execution_count": 9,
   "metadata": {},
   "outputs": [
    {
     "data": {
      "text/html": [
       "<div>\n",
       "<style scoped>\n",
       "    .dataframe tbody tr th:only-of-type {\n",
       "        vertical-align: middle;\n",
       "    }\n",
       "\n",
       "    .dataframe tbody tr th {\n",
       "        vertical-align: top;\n",
       "    }\n",
       "\n",
       "    .dataframe thead th {\n",
       "        text-align: right;\n",
       "    }\n",
       "</style>\n",
       "<table border=\"1\" class=\"dataframe\">\n",
       "  <thead>\n",
       "    <tr style=\"text-align: right;\">\n",
       "      <th>Content Type</th>\n",
       "      <th>Movie</th>\n",
       "      <th>TV Show</th>\n",
       "    </tr>\n",
       "  </thead>\n",
       "  <tbody>\n",
       "    <tr>\n",
       "      <th>Content Type</th>\n",
       "      <td>0.83</td>\n",
       "      <td>0.17</td>\n",
       "    </tr>\n",
       "  </tbody>\n",
       "</table>\n",
       "</div>"
      ],
      "text/plain": [
       "Content Type  Movie  TV Show\n",
       "Content Type   0.83     0.17"
      ]
     },
     "execution_count": 9,
     "metadata": {},
     "output_type": "execute_result"
    }
   ],
   "source": [
    "x = df.groupby(['Content Type'])['Content Type'].count()\n",
    "y = len(df)\n",
    "r=((x/y)).round(2)\n",
    "mf_ratio = pd.DataFrame(r).T\n",
    "mf_ratio.head()\n"
   ]
  },
  {
   "cell_type": "code",
   "execution_count": 10,
   "metadata": {},
   "outputs": [
    {
     "data": {
      "image/png": "[encoded data removed]",
      "text/plain": [
       "<Figure size 612x180 with 1 Axes>"
      ]
     },
     "metadata": {},
     "output_type": "display_data"
    }
   ],
   "source": [
    "fig, ax = plt.subplots(1,1,figsize=(8.5,2.5))\n",
    "ax.barh(mf_ratio.index, mf_ratio['Movie'], \n",
    "        color='#b20710', alpha=0.9, label='Male')\n",
    "ax.barh(mf_ratio.index, mf_ratio['TV Show'], left=mf_ratio['Movie'], \n",
    "        color='#221f1f', alpha=0.9, label='Female')\n",
    "ax.set_xlim(0, 1)\n",
    "ax.set_xticks([])\n",
    "ax.set_yticks([])\n",
    "\n",
    "\n",
    "\n",
    "for i in mf_ratio.index:\n",
    "    ax.annotate(f\"{int(mf_ratio['Movie'][i]*100)}%\", \n",
    "                   xy=(mf_ratio['Movie'][i]/2, i),\n",
    "                   va = 'center', ha='center',fontsize=30, fontweight='light', fontfamily='serif',\n",
    "                   color='white')\n",
    "    ax.annotate(\"Movie\", \n",
    "                   xy=(mf_ratio['Movie'][i]/2, -0.25),\n",
    "                   va = 'center', ha='center',fontsize=13, fontweight='light', fontfamily='serif',\n",
    "                   color='white')\n",
    "for i in mf_ratio.index:\n",
    "    ax.annotate(f\"{int(mf_ratio['TV Show'][i]*100)}%\",\n",
    "                xy=(mf_ratio['Movie'][i]+mf_ratio['TV Show'][i]/2,i),\n",
    "                va = 'center', ha='center',fontsize=30, fontweight='light', fontfamily='serif',\n",
    "                color='white')\n",
    "    ax.annotate(\"TV Shows\", \n",
    "                   xy=(mf_ratio['Movie'][i]+mf_ratio['TV Show'][i]/2, -0.25),\n",
    "                   va = 'center', ha='center',fontsize=13, fontweight='light', fontfamily='serif',\n",
    "                   color='white')\n",
    "\n",
    "    \n",
    "\n",
    "fig.text(0.125,1.0,'Movie & TV Show distribution',fontfamily='serif',fontsize=15,fontweight='bold')\n",
    "fig.text(0.125,0.90,'We see vastly more movies than TV shows on Netflix.',fontfamily='serif',fontsize=12,fontweight='light')\n",
    "for s in ['top','left','right','bottom']:\n",
    "    ax.spines[s].set_visible(False)\n",
    "ax.legend().set_visible(False)\n",
    "plt.show()"
   ]
  },
  {
   "cell_type": "markdown",
   "metadata": {},
   "source": [
    "**Netflix Content Production Country Information**"
   ]
  },
  {
   "cell_type": "code",
   "execution_count": 11,
   "metadata": {},
   "outputs": [
    {
     "data": {
      "text/plain": [
       "1                                 South Korea\n",
       "2                                       Italy\n",
       "4                                      Canada\n",
       "5                                   Indonesia\n",
       "6                                   Indonesia\n",
       "                        ...                  \n",
       "5960                                Australia\n",
       "5961    United Kingdom, Canada, United States\n",
       "5962                                    Egypt\n",
       "5965                              South Korea\n",
       "5966                                  No data\n",
       "Name: Production Country, Length: 4284, dtype: object"
      ]
     },
     "execution_count": 11,
     "metadata": {},
     "output_type": "execute_result"
    }
   ],
   "source": [
    "df['Production Country']"
   ]
  },
  {
   "cell_type": "code",
   "execution_count": null,
   "metadata": {},
   "outputs": [],
   "source": []
  },
  {
   "cell_type": "code",
   "execution_count": 12,
   "metadata": {},
   "outputs": [
    {
     "data": {
      "image/png": "[encoded data removed]",
      "text/plain": [
       "<Figure size 864x432 with 1 Axes>"
      ]
     },
     "metadata": {},
     "output_type": "display_data"
    }
   ],
   "source": [
    "df['count']=1 #helper column\n",
    "data = df.groupby('Production Country')['count'].sum().sort_values(ascending=False)[:10]\n",
    "\n",
    "\n",
    "color_map = ['#0f0f0f' for _ in range(10)]\n",
    "color_map[0] = color_map[1]= color_map[2] = '#b20710'\n",
    "fig,ax = plt.subplots(1,1,figsize=(12,6))\n",
    "\n",
    "#Annotating the figure\n",
    "ax.bar(data.index,data,width=0.5,edgecolor='darkgray',linewidth=0.6,color=color_map)\n",
    "for i in data.index:\n",
    "    ax.annotate(f\"{data[i]}\",xy=(i,data[i]+100),va='center',ha='center',fontweight='light',fontfamily='serif')\n",
    "for s in ['top','left','right']:\n",
    "    ax.spines[s].set_visible(False)\n",
    "    \n",
    "#Adding text\n",
    "fig.text(0.125,1,'Top 10 countries on Netflix',fontsize=15,fontweight='bold',fontfamily='serif')\n",
    "fig.text(0.125,0.95,'The three most frequent countries have been highlighted.',fontsize=10,fontweight='light',fontfamily='serif')\n",
    "fig.text(1.1, 1.01, 'Insight', fontsize=15, fontweight='bold', fontfamily='serif')\n",
    "fig.text(1.1, 0.67, '''\n",
    "Here we see that US is major content \n",
    "producers for Netflix, and on second\n",
    "we have India after UK and so on.\n",
    "Netflix being a US Company, it makes \n",
    "sense that they major producers.\n",
    "'''\n",
    "         , fontsize=12, fontweight='light', fontfamily='serif')\n",
    "ax.grid(axis='y', linestyle='-', alpha=0.5)"
   ]
  },
  {
   "cell_type": "markdown",
   "metadata": {},
   "source": [
    "# Netflix Recommendation System with Python"
   ]
  },
  {
   "cell_type": "code",
   "execution_count": 13,
   "metadata": {},
   "outputs": [],
   "source": [
    "import pandas as pd\n",
    "import numpy as np\n",
    "import math\n",
    "import re\n",
    "\n",
    "from scipy.sparse import csr_matrix\n",
    "import matplotlib.pyplot as plt\n",
    "import seaborn as sns\n",
    "from surprise import Reader, Dataset, SVD\n",
    "sns.set_style(\"darkgrid\")\n",
    "# Skip date\n",
    "df1 = pd.read_csv('combined_data_1.txt', header = None, names = ['Cust_Id', 'Rating'], usecols = [0,1])\n",
    "df1['Rating'] = df1['Rating'].astype(float)\n",
    "df = df1\n",
    "df.index = np.arange(0,len(df))"
   ]
  },
  {
   "cell_type": "markdown",
   "metadata": {},
   "source": [
    "Now let’s have a look at the spread of the dataset and the ratings of the people on Netflix movies:"
   ]
  },
  {
   "cell_type": "code",
   "execution_count": 14,
   "metadata": {},
   "outputs": [
    {
     "data": {
      "image/png": "[encoded data removed]",
      "text/plain": [
       "<Figure size 1080x720 with 1 Axes>"
      ]
     },
     "metadata": {},
     "output_type": "display_data"
    }
   ],
   "source": [
    "p = df.groupby('Rating')['Rating'].agg(['count'])\n",
    "\n",
    "# get movie count\n",
    "movie_count = df.isnull().sum()[1]\n",
    "\n",
    "# get customer count\n",
    "cust_count = df['Cust_Id'].nunique() - movie_count\n",
    "\n",
    "# get rating count\n",
    "rating_count = df['Cust_Id'].count() - movie_count\n",
    "\n",
    "ax = p.plot(kind = 'barh', legend = False,color = '#b20710', figsize = (15,10))\n",
    "plt.title('Total pool: {:,} Movies, {:,} customers, {:,} ratings given'.format(movie_count, cust_count, rating_count),\n",
    "          fontsize=20)\n",
    "plt.axis('off')\n",
    "\n",
    "for i in range(1,6):\n",
    "    ax.text(p.iloc[i-1][0]/4, i-1, 'Rating {}: {:.0f}%'.format(i, p.iloc[i-1][0]*100 / p.sum()[0]),\n",
    "            color = 'white', weight = 'bold')"
   ]
  },
  {
   "cell_type": "code",
   "execution_count": 15,
   "metadata": {},
   "outputs": [
    {
     "name": "stdout",
     "output_type": "stream",
     "text": [
      "Movie numpy: [1.000e+00 1.000e+00 1.000e+00 ... 4.499e+03 4.499e+03 4.499e+03]\n",
      "Length: 24053764\n",
      "-Dataset examples-\n",
      "          Cust_Id  Rating  Movie_Id\n",
      "1         1488844     3.0         1\n",
      "5000996    501954     2.0       996\n",
      "10001962   404654     5.0      1962\n",
      "15002876   886608     2.0      2876\n",
      "20003825  1193835     2.0      3825\n"
     ]
    }
   ],
   "source": [
    "df_nan = pd.DataFrame(pd.isnull(df.Rating))\n",
    "df_nan = df_nan[df_nan['Rating'] == True]\n",
    "df_nan = df_nan.reset_index()\n",
    "\n",
    "movie_np = []\n",
    "movie_id = 1\n",
    "\n",
    "for i,j in zip(df_nan['index'][1:],df_nan['index'][:-1]):\n",
    "    # numpy approach\n",
    "    temp = np.full((1,i-j-1), movie_id)\n",
    "    movie_np = np.append(movie_np, temp)\n",
    "    movie_id += 1\n",
    "\n",
    "# Account for last record and corresponding length\n",
    "# numpy approach\n",
    "last_record = np.full((1,len(df) - df_nan.iloc[-1, 0] - 1),movie_id)\n",
    "movie_np = np.append(movie_np, last_record)\n",
    "\n",
    "print('Movie numpy: {}'.format(movie_np))\n",
    "print('Length: {}'.format(len(movie_np)))\n",
    "\n",
    "# remove those Movie ID rows\n",
    "df = df[pd.notnull(df['Rating'])]\n",
    "\n",
    "df['Movie_Id'] = movie_np.astype(int)\n",
    "df['Cust_Id'] = df['Cust_Id'].astype(int)\n",
    "print('-Dataset examples-')\n",
    "print(df.iloc[::5000000, :])"
   ]
  },
  {
   "cell_type": "code",
   "execution_count": 17,
   "metadata": {},
   "outputs": [
    {
     "name": "stdout",
     "output_type": "stream",
     "text": [
      "Movie minimum times of review: 1799.0\n",
      "Original Shape: (24053764, 3)\n",
      "After Trim Shape: (17337458, 3)\n",
      "-Data Examples-\n",
      "          Cust_Id  Rating  Movie_Id\n",
      "696        712664     5.0         3\n",
      "6932490   1299309     5.0      1384\n",
      "13860273   400155     3.0      2660\n",
      "20766530   466962     4.0      3923\n"
     ]
    }
   ],
   "source": [
    "f = ['count','mean']\n",
    "\n",
    "df_movie_summary = df.groupby('Movie_Id')['Rating'].agg(f)\n",
    "df_movie_summary.index = df_movie_summary.index.map(int)\n",
    "movie_benchmark = round(df_movie_summary['count'].quantile(0.7),0)\n",
    "drop_movie_list = df_movie_summary[df_movie_summary['count'] < movie_benchmark].index\n",
    "\n",
    "print('Movie minimum times of review: {}'.format(movie_benchmark))\n",
    "\n",
    "df_cust_summary = df.groupby('Cust_Id')['Rating'].agg(f)\n",
    "df_cust_summary.index = df_cust_summary.index.map(int)\n",
    "cust_benchmark = round(df_cust_summary['count'].quantile(0.7),0)\n",
    "drop_cust_list = df_cust_summary[df_cust_summary['count'] < cust_benchmark].index\n",
    "\n",
    "print('Original Shape: {}'.format(df.shape))\n",
    "df = df[~df['Movie_Id'].isin(drop_movie_list)]\n",
    "df = df[~df['Cust_Id'].isin(drop_cust_list)]\n",
    "print('After Trim Shape: {}'.format(df.shape))\n",
    "print('-Data Examples-')\n",
    "print(df.iloc[::5000000, :])"
   ]
  },
  {
   "cell_type": "code",
   "execution_count": 18,
   "metadata": {},
   "outputs": [
    {
     "name": "stdout",
     "output_type": "stream",
     "text": [
      "For movie (What the #$*! Do We Know!?)\n",
      "- Top 10 movies recommended based on Pearsons'R correlation - \n",
      " PearsonR                                     Name  count     mean\n",
      " 1.000000               What the #$*! Do We Know!?  14910 3.189805\n",
      " 0.505500                                Inu-Yasha   1883 4.554434\n",
      " 0.452807 Captain Pantoja and the Special Services   1801 3.417546\n",
      " 0.442354                Without a Trace: Season 1   2124 3.980226\n",
      " 0.384179                     Yu-Gi-Oh!: The Movie   3173 3.331547\n",
      " 0.383959                                 Scorched   2430 2.894239\n",
      " 0.381173  All Creatures Great and Small: Series 1   2327 3.938118\n",
      " 0.381112          As Time Goes By: Series 1 and 2   2249 4.164073\n",
      " 0.373018                         Cowboys & Angels   2368 3.589527\n",
      " 0.371981                           Biggie & Tupac   1866 3.019293\n"
     ]
    }
   ],
   "source": [
    "df_p = pd.pivot_table(df,values='Rating',index='Cust_Id',columns='Movie_Id')\n",
    "df_title = pd.read_csv('movie_titles.csv', encoding = \"ISO-8859-1\", header = None, names = ['Movie_Id', 'Year', 'Name'])\n",
    "df_title.set_index('Movie_Id', inplace = True)\n",
    "def recommend(movie_title, min_count):\n",
    "    print(\"For movie ({})\".format(movie_title))\n",
    "    print(\"- Top 10 movies recommended based on Pearsons'R correlation - \")\n",
    "    i = int(df_title.index[df_title['Name'] == movie_title][0])\n",
    "    target = df_p[i]\n",
    "    similar_to_target = df_p.corrwith(target)\n",
    "    corr_target = pd.DataFrame(similar_to_target, columns = ['PearsonR'])\n",
    "    corr_target.dropna(inplace = True)\n",
    "    corr_target = corr_target.sort_values('PearsonR', ascending = False)\n",
    "    corr_target.index = corr_target.index.map(int)\n",
    "    corr_target = corr_target.join(df_title).join(df_movie_summary)[['PearsonR', 'Name', 'count', 'mean']]\n",
    "    print(corr_target[corr_target['count']>min_count][:10].to_string(index=False))\n",
    "   \n",
    "recommend(\"What the #$*! Do We Know!?\", 0)"
   ]
  },
  {
   "cell_type": "markdown",
   "metadata": {},
   "source": [
    "Resource:\n",
    "    https://plotly.com/\n",
    "    \n",
    "    https://www.analyticsvidhya.com/blog/2021/07/visualizing-netflix-data-using-python/\n",
    "    \n",
    "    https://thecleverprogrammer.com/2020/12/26/netflix-recommendation-system-with-python/#google_vignette"
   ]
  },
  {
   "cell_type": "code",
   "execution_count": null,
   "metadata": {},
   "outputs": [],
   "source": []
  }
 ],
 "metadata": {
  "kernelspec": {
   "display_name": "Python 3",
   "language": "python",
   "name": "python3"
  },
  "language_info": {
   "codemirror_mode": {
    "name": "ipython",
    "version": 3
   },
   "file_extension": ".py",
   "mimetype": "text/x-python",
   "name": "python",
   "nbconvert_exporter": "python",
   "pygments_lexer": "ipython3",
   "version": "3.8.5"
  }
 },
 "nbformat": 4,
 "nbformat_minor": 4
}
